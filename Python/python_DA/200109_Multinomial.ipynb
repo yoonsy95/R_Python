{
 "cells": [
  {
   "cell_type": "code",
   "execution_count": 1,
   "metadata": {},
   "outputs": [
    {
     "name": "stderr",
     "output_type": "stream",
     "text": [
      "C:\\Users\\student\\Anaconda3\\envs\\cpu_env\\lib\\site-packages\\tensorflow\\python\\framework\\dtypes.py:493: FutureWarning: Passing (type, 1) or '1type' as a synonym of type is deprecated; in a future version of numpy, it will be understood as (type, (1,)) / '(1,)type'.\n",
      "  _np_qint8 = np.dtype([(\"qint8\", np.int8, 1)])\n",
      "C:\\Users\\student\\Anaconda3\\envs\\cpu_env\\lib\\site-packages\\tensorflow\\python\\framework\\dtypes.py:494: FutureWarning: Passing (type, 1) or '1type' as a synonym of type is deprecated; in a future version of numpy, it will be understood as (type, (1,)) / '(1,)type'.\n",
      "  _np_quint8 = np.dtype([(\"quint8\", np.uint8, 1)])\n",
      "C:\\Users\\student\\Anaconda3\\envs\\cpu_env\\lib\\site-packages\\tensorflow\\python\\framework\\dtypes.py:495: FutureWarning: Passing (type, 1) or '1type' as a synonym of type is deprecated; in a future version of numpy, it will be understood as (type, (1,)) / '(1,)type'.\n",
      "  _np_qint16 = np.dtype([(\"qint16\", np.int16, 1)])\n",
      "C:\\Users\\student\\Anaconda3\\envs\\cpu_env\\lib\\site-packages\\tensorflow\\python\\framework\\dtypes.py:496: FutureWarning: Passing (type, 1) or '1type' as a synonym of type is deprecated; in a future version of numpy, it will be understood as (type, (1,)) / '(1,)type'.\n",
      "  _np_quint16 = np.dtype([(\"quint16\", np.uint16, 1)])\n",
      "C:\\Users\\student\\Anaconda3\\envs\\cpu_env\\lib\\site-packages\\tensorflow\\python\\framework\\dtypes.py:497: FutureWarning: Passing (type, 1) or '1type' as a synonym of type is deprecated; in a future version of numpy, it will be understood as (type, (1,)) / '(1,)type'.\n",
      "  _np_qint32 = np.dtype([(\"qint32\", np.int32, 1)])\n",
      "C:\\Users\\student\\Anaconda3\\envs\\cpu_env\\lib\\site-packages\\tensorflow\\python\\framework\\dtypes.py:502: FutureWarning: Passing (type, 1) or '1type' as a synonym of type is deprecated; in a future version of numpy, it will be understood as (type, (1,)) / '(1,)type'.\n",
      "  np_resource = np.dtype([(\"resource\", np.ubyte, 1)])\n",
      "C:\\Users\\student\\Anaconda3\\envs\\cpu_env\\lib\\site-packages\\sklearn\\externals\\six.py:31: FutureWarning: The module is deprecated in version 0.21 and will be removed in version 0.23 since we've dropped support for Python 2.7. Please rely on the official version of six (https://pypi.org/project/six/).\n",
      "  \"(https://pypi.org/project/six/).\", FutureWarning)\n",
      "C:\\Users\\student\\Anaconda3\\envs\\cpu_env\\lib\\site-packages\\sklearn\\externals\\joblib\\__init__.py:15: FutureWarning: sklearn.externals.joblib is deprecated in 0.21 and will be removed in 0.23. Please import this functionality directly from joblib, which can be installed with: pip install joblib. If this warning is raised when loading pickled models, you may need to re-serialize those models with scikit-learn 0.21+.\n",
      "  warnings.warn(msg, category=FutureWarning)\n"
     ]
    }
   ],
   "source": [
    "# Logistic Regression을 그림으로 알아보아요\n",
    "import pandas as pd\n",
    "import numpy as np\n",
    "import matplotlib.pyplot as plt\n",
    "import tensorflow as tf\n",
    "import warnings\n",
    "from sklearn.linear_model import LogisticRegression\n",
    "from sklearn.preprocessing import MinMaxScaler\n",
    "import mglearn\n",
    "\n",
    "warnings.filterwarnings(action='ignore')  # warning 출력 배제"
   ]
  },
  {
   "cell_type": "code",
   "execution_count": 26,
   "metadata": {},
   "outputs": [
    {
     "data": {
      "text/plain": [
       "<matplotlib.collections.PathCollection at 0x2001cc7ccf8>"
      ]
     },
     "execution_count": 26,
     "metadata": {},
     "output_type": "execute_result"
    },
    {
     "data": {
      "image/png": "[encoded data removed]",
      "text/plain": [
       "<Figure size 432x288 with 1 Axes>"
      ]
     },
     "metadata": {
      "needs_background": "light"
     },
     "output_type": "display_data"
    }
   ],
   "source": [
    "x,y=mglearn.datasets.make_forge()\n",
    "\n",
    "# 먼저 간단하게 scatter(산점도) 그려보자\n",
    "# y 값이 0인 x를 추출해서 x의 첫번째 컬럼은 x축으로\n",
    "# x의 두 번째 컬럼을 y출으로 scatter를 그려보아요\n",
    "\n",
    "blue=x[y==0]\n",
    "orange=x[y==1]\n",
    "\n",
    "plt.scatter(blue[:,0], blue[:,1])\n",
    "plt.scatter(orange[:,0], orange[:,1])"
   ]
  },
  {
   "cell_type": "code",
   "execution_count": 31,
   "metadata": {},
   "outputs": [
    {
     "name": "stdout",
     "output_type": "stream",
     "text": [
      "cost value: 4.182097911834717\n",
      "cost value: 0.30416446924209595\n",
      "cost value: 0.2601892650127411\n",
      "cost value: 0.24992766976356506\n",
      "cost value: 0.2461535781621933\n",
      "cost value: 0.2443642020225525\n",
      "cost value: 0.24331539869308472\n",
      "cost value: 0.24257484078407288\n",
      "cost value: 0.24197176098823547\n",
      "cost value: 0.24143339693546295\n"
     ]
    }
   ],
   "source": [
    "# machine learning(Logistic Regression)\n",
    "# train data set(test data set은 넘어가자: accuracy 측정이 목적이 아니므로)\n",
    "train_x_data=x  # 2차배열\n",
    "train_y_data=y.reshape([-1,1])  # 1차배열 => shape 맞춰야 함\n",
    "\n",
    "# placeholder\n",
    "X=tf.placeholder(shape=[None, 2],dtype=tf.float32)\n",
    "Y=tf.placeholder(shape=[None, 1],dtype=tf.float32)\n",
    "\n",
    "# weight & bias\n",
    "W=tf.Variable(tf.random_normal([2,1]), name='weight')\n",
    "b=tf.Variable(tf.random_normal([1]), name='bias')\n",
    "\n",
    "# Hypothesis\n",
    "logit=tf.matmul(X,W)+b\n",
    "H=tf.sigmoid(logit)\n",
    "\n",
    "# cost(loss) function\n",
    "cost=tf.reduce_mean(tf.nn.sigmoid_cross_entropy_with_logits(logits=logit,\n",
    "                                                            labels=Y))\n",
    "\n",
    "# train\n",
    "train=tf.train.GradientDescentOptimizer(learning_rate=.01).minimize(cost)\n",
    "\n",
    "# session & initializer\n",
    "sess=tf.Session()\n",
    "sess.run(tf.global_variables_initializer())\n",
    "\n",
    "# 학습진행\n",
    "for step in range(3000):\n",
    "    _, cost_val=sess.run([train, cost],\n",
    "                         feed_dict={X: train_x_data,\n",
    "                                    Y: train_y_data})\n",
    "    if step%300==0:\n",
    "        print(f'cost value: {cost_val}')"
   ]
  },
  {
   "cell_type": "code",
   "execution_count": 52,
   "metadata": {},
   "outputs": [
    {
     "name": "stdout",
     "output_type": "stream",
     "text": [
      "[1]\n"
     ]
    },
    {
     "data": {
      "image/png": "[encoded data removed]",
      "text/plain": [
       "<Figure size 432x288 with 1 Axes>"
      ]
     },
     "metadata": {},
     "output_type": "display_data"
    }
   ],
   "source": [
    "# 정확도 측정(Accuracy): 95% 이상 나오면 쓸만한 모델\n",
    "#                      98%이상 나오면 실제 업무에 사용 가능한 모델\n",
    "# Prediction(예측)\n",
    "result=sess.run(H, feed_dict={X: [[9,4]]})\n",
    "result\n",
    "\n",
    "plt.scatter(blue[:,0], blue[:,1])\n",
    "plt.scatter(orange[:,0], orange[:,1])\n",
    "plt.scatter(9,4)\n",
    "\n",
    "##################\n",
    "## 모델 만듦\n",
    "model=LogisticRegression()\n",
    "myModel=model.fit(x,y)  # logistic model learning\n",
    "\n",
    "print(myModel.predict([[9,4]]))\n",
    "# linear => 선 만듦\n",
    "# logistic => 선 찾기(두 분류 나누는) // hyperplane\n",
    "#             선의 위: 1, 아래: 0\n",
    "#             x가 3개면 공간이 됨 ==> 구하는 것은 선이 아닌 면\n",
    "\n",
    "\n",
    "mglearn.plots.plot_2d_separator(myModel,x,fill=False, # 선 기준 위 아래 색 채움\n",
    "                                eps=.5,  # 분포 좀 퍼지도록\n",
    "                                alpha=.7)  # 선의 투명도"
   ]
  },
  {
   "cell_type": "code",
   "execution_count": 60,
   "metadata": {},
   "outputs": [
    {
     "data": {
      "text/plain": [
       "<matplotlib.collections.PathCollection at 0x2002491c278>"
      ]
     },
     "execution_count": 60,
     "metadata": {},
     "output_type": "execute_result"
    },
    {
     "data": {
      "image/png": "[encoded data removed]",
      "text/plain": [
       "<Figure size 432x288 with 1 Axes>"
      ]
     },
     "metadata": {
      "needs_background": "light"
     },
     "output_type": "display_data"
    }
   ],
   "source": [
    "# Logistic을 multinomial로 확장해보아요\n",
    "# x쪽 데이터는 시험성적과 출석점수\n",
    "# y쪽 데이터는 학점\n",
    "x=np.array([[10,5],\n",
    "            [9,5],\n",
    "            [5,1],\n",
    "            [4,2],\n",
    "            [1,3]])\n",
    "\n",
    "y=np.array([['A'],\n",
    "            ['A'],\n",
    "            ['B'],\n",
    "            ['B'],\n",
    "            ['C']])\n",
    "\n",
    "plt.scatter(x[0:2,0], x[0:2,1]) # A등급\n",
    "plt.scatter(x[2:4,0], x[2:4,1]) # B등급\n",
    "plt.scatter(x[4,0], x[4,1]) # C등급"
   ]
  },
  {
   "cell_type": "code",
   "execution_count": 82,
   "metadata": {},
   "outputs": [
    {
     "name": "stdout",
     "output_type": "stream",
     "text": [
      "cost value: 17.565078735351562\n",
      "cost value: 0.19044749438762665\n",
      "cost value: 0.1269761174917221\n",
      "cost value: 0.09560131281614304\n",
      "cost value: 0.07649252563714981\n",
      "cost value: 0.06361881643533707\n",
      "cost value: 0.054371170699596405\n",
      "cost value: 0.04741879180073738\n",
      "cost value: 0.04200908541679382\n",
      "cost value: 0.03768492490053177\n"
     ]
    }
   ],
   "source": [
    "import tensorflow as tf\n",
    "\n",
    "# train data set\n",
    "# 퀴즈1, 2, 3, 출석\n",
    "train_x_data=[[10,9,8,5],\n",
    "               [8,8,9,4],\n",
    "               [7,8,2,3],\n",
    "               [6,3,9,3],\n",
    "               [7,5,7,4],\n",
    "               [3,5,6,2],\n",
    "               [2,4,3,1]]\n",
    "\n",
    "train_y_data=[[1,0,0],\n",
    "              [1,0,0],\n",
    "              [0,1,0],\n",
    "              [0,1,0],\n",
    "              [0,1,0],\n",
    "              [0,0,1],\n",
    "              [0,0,1]]\n",
    "\n",
    "# placeholder\n",
    "X = tf.placeholder(shape=[None,4], dtype=tf.float32)\n",
    "Y = tf.placeholder(shape=[None,3], dtype=tf.float32)\n",
    "\n",
    "# wieght & bias\n",
    "W = tf.Variable(tf.random_normal([4,3]), name='weight')\n",
    "b = tf.Variable(tf.random_normal([1,3]), name='bias')\n",
    "\n",
    "# Hypothesis\n",
    "logit=tf.matmul(X,W)+b\n",
    "H=tf.nn.softmax(logit) # sigmoid -> softmax \n",
    "\n",
    "# cost function\n",
    "cost=tf.reduce_mean(tf.nn.softmax_cross_entropy_with_logits_v2(logits=logit,\n",
    "                                                               labels=Y))\n",
    "\n",
    "# train\n",
    "train=tf.train.GradientDescentOptimizer(learning_rate=.01).minimize(cost)\n",
    "\n",
    "# session, initializer\n",
    "sess=tf.Session()\n",
    "sess.run(tf.global_variables_initializer())\n",
    "\n",
    "# learning\n",
    "for step in range(30000):\n",
    "    _, cost_val=sess.run([train, cost], feed_dict={X: train_x_data,\n",
    "                                                   Y: train_y_data})\n",
    "    if step%3000==0:\n",
    "        print(f'cost value: {cost_val}')"
   ]
  },
  {
   "cell_type": "code",
   "execution_count": 97,
   "metadata": {},
   "outputs": [
    {
     "name": "stdout",
     "output_type": "stream",
     "text": [
      "Accuracy: 1.0\n"
     ]
    }
   ],
   "source": [
    "# Accuracy(정확도)\n",
    "# 기존 사용 방법\n",
    "# predict=tf.cast(H>.5, dtype=tf.float32)\n",
    "# predict\n",
    "\n",
    "sess.run(H, feed_dict={X:[[10,8,9,5]]})\n",
    "# array([[6.7991751e-01, 3.2008091e-01, 1.6600322e-06]], dtype=float32)\n",
    "\n",
    "# argmax: 한 행 중 가장 큰 값의 index 번호 리턴시킴\n",
    "predict=tf.argmax(H, axis=1)\n",
    "correct=tf.equal(predict, tf.argmax(Y, axis=1))\n",
    "accuracy=tf.reduce_mean(tf.cast(correct, dtype=tf.float32))\n",
    "print(f'Accuracy: {sess.run(accuracy, feed_dict={X:train_x_data,Y: train_y_data})}')"
   ]
  },
  {
   "cell_type": "markdown",
   "metadata": {},
   "source": [
    "#### 예제) BMI 데이터를 학습한 후 자신의 키와 몸무게를 넣어서 자신의 상태를 확인해보아요\n"
   ]
  },
  {
   "cell_type": "code",
   "execution_count": 14,
   "metadata": {},
   "outputs": [
    {
     "data": {
      "text/plain": [
       "<matplotlib.axes._subplots.AxesSubplot at 0x28dbea03860>"
      ]
     },
     "execution_count": 14,
     "metadata": {},
     "output_type": "execute_result"
    },
    {
     "data": {
      "image/png": "[encoded data removed]",
      "text/plain": [
       "<Figure size 432x288 with 1 Axes>"
      ]
     },
     "metadata": {
      "needs_background": "light"
     },
     "output_type": "display_data"
    }
   ],
   "source": [
    "bmi=pd.read_csv('C:\\\\python_DA\\\\data\\\\bmi\\\\bmi.csv')  # skiprow=3\n",
    "\n",
    "# 결측치 확인\n",
    "bmi.isnull().sum()\n",
    "\n",
    "# 이상치 확인\n",
    "bmi.boxplot()"
   ]
  },
  {
   "cell_type": "code",
   "execution_count": 32,
   "metadata": {},
   "outputs": [
    {
     "data": {
      "text/plain": [
       "(4000, 3)"
      ]
     },
     "execution_count": 32,
     "metadata": {},
     "output_type": "execute_result"
    }
   ],
   "source": [
    "split_num=int(bmi.shape[0]*.8)\n",
    "scaler=MinMaxScaler()\n",
    "\n",
    "x_data=scaler.fit_transform(bmi[['height','weight']])\n",
    "              # fit(min, max 필요 데이터 get)\n",
    "              # transform(fit이 얻어돈 데이터로 변환작업)\n",
    "scaler.data_max_  # 해당 columns들의 최대값\n",
    "scaler.data_min_  # 해당 columns들의 최소값\n",
    "# scaler가 train_data_set에 대한 최대, 최소값을 가지고 있게 됨\n",
    "\n",
    "# train용, test용 x data 생성\n",
    "train_x_data=x_data[:split_num]\n",
    "test_x_data=x_data[split_num:]\n",
    "\n",
    "# train용, test용 y data 생성 => one hot encoding\n",
    "# one hot encoding으로 전환시킬 때  pandas.get_dummies()\n",
    "#                                 tensorflow.one_hot()\n",
    "sess=tf.Session()\n",
    "\n",
    "# df -> ndarray(series?): [inclusive:inclusive]\n",
    "train_y_data=sess.run(tf.one_hot(bmi.loc[:split_num-1,'label'],3))  # 3: depth\n",
    "test_y_data=sess.run(tf.one_hot(bmi.loc[split_num:,'label'],3))"
   ]
  },
  {
   "cell_type": "code",
   "execution_count": 34,
   "metadata": {},
   "outputs": [
    {
     "name": "stdout",
     "output_type": "stream",
     "text": [
      "cost value: 1.4160765409469604\n",
      "cost value: 0.7793905735015869\n",
      "cost value: 0.6213773488998413\n",
      "cost value: 0.543876051902771\n",
      "cost value: 0.49480190873146057\n",
      "cost value: 0.4595852494239807\n",
      "cost value: 0.4324456751346588\n",
      "cost value: 0.41056087613105774\n",
      "cost value: 0.39235028624534607\n",
      "cost value: 0.37684494256973267\n"
     ]
    }
   ],
   "source": [
    "# train data set\n",
    "# train_x_data=df[['height','weight']].values\n",
    "# train_x_data=MinMaxScaler().fit_transform(train_x_data)\n",
    "\n",
    "# train_y_data=df[['thin','normal','fat']]\n",
    "\n",
    "# placeholder\n",
    "X = tf.placeholder(shape=[None,2], dtype=tf.float32)\n",
    "Y = tf.placeholder(shape=[None,3], dtype=tf.float32)\n",
    "\n",
    "# wieght & bias\n",
    "W = tf.Variable(tf.random_normal([2,3]), name='weight')\n",
    "b = tf.Variable(tf.random_normal([3]), name='bias')\n",
    "\n",
    "# Hypothesis\n",
    "logit=tf.matmul(X,W)+b\n",
    "H=tf.nn.softmax(logit) # sigmoid -> softmax \n",
    "\n",
    "# cost function\n",
    "cost=tf.reduce_mean(tf.nn.softmax_cross_entropy_with_logits_v2(logits=logit,\n",
    "                                                               labels=Y))\n",
    "\n",
    "# train\n",
    "train=tf.train.GradientDescentOptimizer(learning_rate=.01).minimize(cost)\n",
    "\n",
    "# session, initializer\n",
    "sess=tf.Session()\n",
    "sess.run(tf.global_variables_initializer())\n",
    "\n",
    "# learning\n",
    "for step in range(30000):\n",
    "    _, cost_val=sess.run([train, cost], feed_dict={X: train_x_data,\n",
    "                                                   Y: train_y_data})\n",
    "    if step%3000==0:\n",
    "        print(f'cost value: {cost_val}')"
   ]
  },
  {
   "cell_type": "code",
   "execution_count": 35,
   "metadata": {},
   "outputs": [
    {
     "name": "stdout",
     "output_type": "stream",
     "text": [
      "Accuracy: 0.9501875042915344\n"
     ]
    }
   ],
   "source": [
    "predict=tf.argmax(H, axis=1)\n",
    "correct=tf.equal(predict, tf.argmax(Y, axis=1))\n",
    "accuracy=tf.reduce_mean(tf.cast(correct, dtype=tf.float32))\n",
    "print(f'Accuracy: {sess.run(accuracy, feed_dict={X:train_x_data,Y: train_y_data})}')\n"
   ]
  },
  {
   "cell_type": "code",
   "execution_count": 45,
   "metadata": {},
   "outputs": [
    {
     "name": "stdout",
     "output_type": "stream",
     "text": [
      "THIN\n"
     ]
    }
   ],
   "source": [
    "prediction_data=scaler.transform([[160,30]])\n",
    "result=sess.run(tf.argmax(H, 1),feed_dict={X:prediction_data})[0]\n",
    "\n",
    "if result==0:\n",
    "    print('THIN')\n",
    "elif result==1:\n",
    "    print('NORMAL')\n",
    "else:\n",
    "    print('FAT')"
   ]
  },
  {
   "cell_type": "code",
   "execution_count": null,
   "metadata": {},
   "outputs": [],
   "source": []
  },
  {
   "cell_type": "code",
   "execution_count": null,
   "metadata": {},
   "outputs": [],
   "source": []
  }
 ],
 "metadata": {
  "kernelspec": {
   "display_name": "[CPU_ENV]",
   "language": "python",
   "name": "cpu_env"
  },
  "language_info": {
   "codemirror_mode": {
    "name": "ipython",
    "version": 3
   },
   "file_extension": ".py",
   "mimetype": "text/x-python",
   "name": "python",
   "nbconvert_exporter": "python",
   "pygments_lexer": "ipython3",
   "version": "3.6.9"
  }
 },
 "nbformat": 4,
 "nbformat_minor": 2
}
