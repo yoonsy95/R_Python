{
 "cells": [
  {
   "cell_type": "code",
   "execution_count": null,
   "metadata": {},
   "outputs": [],
   "source": [
    "# multinomial classification\n",
    "# => MNIST 예제 이용하여 보완해야 하는 부분들을 알아보아요\n",
    "\n",
    "# => MNIST는 이미지를 학습하고 prediction하는 예제\n",
    "\n",
    "# => tensorflow에서 제공하는 MNIST 예제를 이용하여\n",
    "#    조금 편하게 작업을 해 볼거예요"
   ]
  },
  {
   "cell_type": "code",
   "execution_count": 1,
   "metadata": {},
   "outputs": [],
   "source": [
    "# 필요한 module import\n",
    "import tensorflow as tf\n",
    "import pandas as pd\n",
    "import numpy as np\n",
    "import matplotlib.pyplot as plt\n",
    "from tensorflow.examples.tutorials.mnist import input_data"
   ]
  },
  {
   "cell_type": "code",
   "execution_count": 2,
   "metadata": {},
   "outputs": [
    {
     "name": "stdout",
     "output_type": "stream",
     "text": [
      "Successfully downloaded train-images-idx3-ubyte.gz 9912422 bytes.\n",
      "Extracting ./data/mnist\\train-images-idx3-ubyte.gz\n",
      "Successfully downloaded train-labels-idx1-ubyte.gz 28881 bytes.\n",
      "Extracting ./data/mnist\\train-labels-idx1-ubyte.gz\n",
      "Successfully downloaded t10k-images-idx3-ubyte.gz 1648877 bytes.\n",
      "Extracting ./data/mnist\\t10k-images-idx3-ubyte.gz\n",
      "Successfully downloaded t10k-labels-idx1-ubyte.gz 4542 bytes.\n",
      "Extracting ./data/mnist\\t10k-labels-idx1-ubyte.gz\n"
     ]
    }
   ],
   "source": [
    "# data loading\n",
    "mnist=input_data.read_data_sets('./data/mnist',one_hot=True)\n",
    "# .gz => unix 계열의 압축 파일"
   ]
  },
  {
   "cell_type": "code",
   "execution_count": 16,
   "metadata": {},
   "outputs": [],
   "source": [
    "# train_x_data_df=pd.DataFrame(mnist.train.images)\n",
    "# train_x_data_df.to_csv('./data/mnist_csv/train_x_data.csv', index=False)\n",
    "\n",
    "# x 데이터의 각 column은(각 픽셀값은) 0과 1사이의 값으로 이미 scale이 되어 있는 상태\n",
    "# 0과 가까울수록 흰 색을 지칭, 1과 가까울수록 색상이 어두워짐\n",
    "\n",
    "train_y_data_df=pd.DataFrame(mnist.train.labels)\n",
    "train_y_data_df.to_csv('./data/mnist_csv/train_y_data.csv', index=False)"
   ]
  },
  {
   "cell_type": "code",
   "execution_count": 93,
   "metadata": {},
   "outputs": [],
   "source": [
    "# tensorflow로 machine learning\n",
    "# placeholder\n",
    "X=tf.placeholder(shape=[None,784], dtype=tf.float32)\n",
    "Y=tf.placeholder(shape=[None,10], dtype=tf.float32)\n",
    "\n",
    "# weight & bias\n",
    "W=tf.Variable(tf.random_normal([784,10]), name='weight')\n",
    "b=tf.Variable(tf.random_normal([10]), name='bias')\n",
    "\n",
    "# Hypothesis\n",
    "logit=tf.matmul(X,W)+b\n",
    "H=tf.nn.softmax(logit)\n",
    "# logistic => sigmoid\n",
    "# multinomial => softmax\n",
    "\n",
    "# cost\n",
    "cost=tf.reduce_mean(tf.nn.softmax_cross_entropy_with_logits_v2(logits=logit,\n",
    "                                                               labels=Y))\n",
    "\n",
    "# train\n",
    "train=tf.train.GradientDescentOptimizer(learning_rate=.1).minimize(cost)\n",
    "\n",
    "# sessino & initializer\n",
    "sess=tf.Session()\n",
    "sess.run(tf.global_variables_initializer())"
   ]
  },
  {
   "cell_type": "code",
   "execution_count": 96,
   "metadata": {},
   "outputs": [
    {
     "name": "stdout",
     "output_type": "stream",
     "text": [
      "cost_value1: 0.5020177960395813\n",
      "cost_value2: 0.518491804599762\n",
      "cost_value3: 0.6773225665092468\n",
      "cost_value4: 0.1324278563261032\n",
      "cost_value5: 0.3719263970851898\n",
      "cost_value6: 0.3421270251274109\n",
      "cost_value7: 0.4281929135322571\n",
      "cost_value8: 0.41849812865257263\n",
      "cost_value9: 0.2653310298919678\n",
      "cost_value10: 0.25763875246047974\n",
      "\n",
      "accuracy: 0.916527271270752\n"
     ]
    }
   ],
   "source": [
    "# learning\n",
    "# 1 epoch: 전체 데이터 한 번 돌음\n",
    "train_epoch=30\n",
    "batch_size=100\n",
    "cnt=0\n",
    "\n",
    "for step in range(train_epoch):\n",
    "    # mnist.train.num_examples: 전체 train 개수\n",
    "    num_of_iter=mnist.train.num_examples//batch_size\n",
    "    cost_val=0\n",
    "    \n",
    "    for i in range(num_of_iter):\n",
    "        batch_x, batch_y=mnist.train.next_batch(batch_size)\n",
    "        _, cost_val=sess.run([train, cost],\n",
    "                             feed_dict={\n",
    "#                                  X:mnist.train.images,  # df보다 ndarray가 더 편하고 오류↓\n",
    "#                                  Y:mnist.train.labels\n",
    "                                 X:batch_x,\n",
    "                                 Y:batch_y\n",
    "                             })\n",
    "\n",
    "    if step % 3==0:\n",
    "        cnt+=1\n",
    "        print(f'cost_value{cnt}: {cost_val}')\n",
    "        \n",
    "        \n",
    "# 학습이 종료되었으니 정확도를 측정해야 함\n",
    "predict=tf.argmax(H,1)\n",
    "correct=tf.equal(predict, tf.argmax(Y,1))\n",
    "accuracy=tf.reduce_mean(tf.cast(correct, dtype=tf.float32))\n",
    "print(f'\\naccuracy: {sess.run(accuracy, feed_dict={X:mnist.train.images,Y:mnist.train.labels})}')"
   ]
  },
  {
   "cell_type": "code",
   "execution_count": 283,
   "metadata": {},
   "outputs": [
    {
     "name": "stdout",
     "output_type": "stream",
     "text": [
      "Row: 4498\n",
      "Label: [7]\n",
      "Predict: [9]\n"
     ]
    },
    {
     "data": {
      "text/plain": [
       "<matplotlib.image.AxesImage at 0x1713b7e49e8>"
      ]
     },
     "execution_count": 283,
     "metadata": {},
     "output_type": "execute_result"
    },
    {
     "data": {
      "image/png": "[encoded data removed]",
      "text/plain": [
       "<Figure size 432x288 with 1 Axes>"
      ]
     },
     "metadata": {
      "needs_background": "light"
     },
     "output_type": "display_data"
    }
   ],
   "source": [
    "# prediction\n",
    "# 랜덤으로 하나의 데이터를 추출해서 prediction 진행 후 결과 비교해보아요\n",
    "r=np.random.randint(0,mnist.test.num_examples)\n",
    "\n",
    "# 난수가 의미하는 행의 label 값을 먼저 구해보자\n",
    "label=sess.run(tf.argmax(mnist.test.labels[r:r+1],axis=1))\n",
    "# mnist.test.labels[r] => 1차원\n",
    "# mnist.test.labels[r:r+1] => 2차원으로 변경\n",
    "# axis => 2차원일 경우 사용\n",
    "\n",
    "print(f'Row: {r}')\n",
    "print(f'Label: {label}')\n",
    "print(f'Predict: {sess.run(tf.argmax(H,1), feed_dict={X:mnist.test.images[r:r+1]})}')\n",
    "# x => 2차원이므로 맞춰줘야 함\n",
    "\n",
    "# image data\n",
    "plt.imshow(mnist.test.images[r:r+1].reshape(28,28), cmap='Greys')\n",
    "\n"
   ]
  }
 ],
 "metadata": {
  "kernelspec": {
   "display_name": "[CPU_ENV]",
   "language": "python",
   "name": "cpu_env"
  },
  "language_info": {
   "codemirror_mode": {
    "name": "ipython",
    "version": 3
   },
   "file_extension": ".py",
   "mimetype": "text/x-python",
   "name": "python",
   "nbconvert_exporter": "python",
   "pygments_lexer": "ipython3",
   "version": "3.6.9"
  }
 },
 "nbformat": 4,
 "nbformat_minor": 2
}
