{
 "cells": [
  {
   "cell_type": "code",
   "execution_count": null,
   "metadata": {},
   "outputs": [],
   "source": [
    "%%time\n",
    "import math\n",
    "# num = 600851475143\n",
    "def primeNN(x):\n",
    "    k = 2\n",
    "    primeNN =[]\n",
    "    while True:\n",
    "        nCount = 0\n",
    "        for i in range(1,int(math.sqrt(k)+1)):\n",
    "            if k % i == 0:\n",
    "                nCount += 1\n",
    "            if k % i >= 2:\n",
    "                break\n",
    "        if nCount == 1:\n",
    "            primeNN.append(k)\n",
    "        k += 1\n",
    "        if k >= x:\n",
    "            break\n",
    "    return primeNN\n",
    "print(primeNN(600851475143))\n"
   ]
  }
 ],
 "metadata": {
  "kernelspec": {
   "display_name": "[CPU_ENV]",
   "language": "python",
   "name": "cpu_env"
  },
  "language_info": {
   "codemirror_mode": {
    "name": "ipython",
    "version": 3
   },
   "file_extension": ".py",
   "mimetype": "text/x-python",
   "name": "python",
   "nbconvert_exporter": "python",
   "pygments_lexer": "ipython3",
   "version": "3.6.9"
  }
 },
 "nbformat": 4,
 "nbformat_minor": 2
}
