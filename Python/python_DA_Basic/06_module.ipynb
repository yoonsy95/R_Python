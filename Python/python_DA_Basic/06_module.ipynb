{
 "cells": [
  {
   "cell_type": "code",
   "execution_count": 2,
   "metadata": {},
   "outputs": [],
   "source": [
    "## python은 module을 사용해요\n",
    "## module : 하나의 python 파일 => 변수, 함수, class가 정의되어있음\n",
    "## python의 module은 다른 python 프로그램에서 불러와 사용할 수 있는 python file을 지칭\n",
    "\n",
    "## 우리가 생성한 module을 어디에 저장해 놓아야 할까요?\n",
    "import sys      # sys라는 module을 불러와서 사용하겠다는 의미\n",
    "sys.path.append(\"C:/python_Lib\")  # python_Lib 폴더를 만들고 여기를 모듈저장경로로 지정\n",
    "\n",
    "## 환경변수 PYTHONPATH 라는 것을 만들어서 여기에 module을 넣어놓으면\n",
    "## 프로그램을 어디에서나 사용할 수 있어요\n"
   ]
  },
  {
   "cell_type": "code",
   "execution_count": 9,
   "metadata": {},
   "outputs": [
    {
     "name": "stdout",
     "output_type": "stream",
     "text": [
      "30\n"
     ]
    }
   ],
   "source": [
    "## module을 사용하는 형식은\n",
    "## import 모듈명(파일명, but 확장자명은 X)\n",
    "# import module1\n",
    "\n",
    "# print(module1.module_PI)\n",
    "# print(module1.mySum(3,5))\n",
    "\n",
    "# import module1 as m\n",
    "# print(m.module_PI)\n",
    "# print(m.mySum(10,20))\n",
    "\n",
    "# from 모듈이름 import 모듈함수(변수, 클래스)\n",
    "# from module1 import module_PI    # module1의 module_PI만 개별적으로 가지고 옴\n",
    "\n",
    "# print(module_PI)\n",
    "\n",
    "# from module1 import *             # module1의 모든 것을 가지고 옴\n",
    "\n",
    "# package : \" . \" 기호를 이용해서 module을 계층적으로 관리\n",
    "# package는 물리적으로 표현할 경우 => 폴더로 표현\n",
    "# A.B 라고 할 때 A : package, B : module\n",
    "\n",
    "# import myPackage.module1\n",
    "# print(myPackage.module1.module_PI)\n",
    "\n",
    "# from myPackage import module1\n",
    "# print(module1.module_PI)\n",
    "\n",
    "# from myPackage.module1 import *\n",
    "# print(module_PI)\n",
    "\n",
    "# from myPackage.module1 import mySum\n",
    "# print(mySum(10,20))"
   ]
  }
 ],
 "metadata": {
  "kernelspec": {
   "display_name": "[CPU_ENV]",
   "language": "python",
   "name": "cpu_env"
  },
  "language_info": {
   "codemirror_mode": {
    "name": "ipython",
    "version": 3
   },
   "file_extension": ".py",
   "mimetype": "text/x-python",
   "name": "python",
   "nbconvert_exporter": "python",
   "pygments_lexer": "ipython3",
   "version": "3.6.9"
  }
 },
 "nbformat": 4,
 "nbformat_minor": 2
}
