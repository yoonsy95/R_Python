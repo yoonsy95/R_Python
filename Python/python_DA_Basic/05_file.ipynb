{
 "cells": [
  {
   "cell_type": "code",
   "execution_count": 6,
   "metadata": {},
   "outputs": [
    {
     "name": "stdout",
     "output_type": "stream",
     "text": [
      "홍길동,18,7,19\n",
      "최길동,58,70,15\n",
      "아이유,92,94,99\n",
      "김연아,17,20,22\n",
      "이선희,76,25,14\n",
      "강감찬,90,19,71\n",
      "신사임당,31,23,16"
     ]
    }
   ],
   "source": [
    "## python의 기본 파일처리\n",
    "\n",
    "## 먼저 file handle을 획득해야 해요\n",
    "## 사용할 데이터파일을 오픈해요!!\n",
    "## 읽기용도, 쓰기용도\n",
    "\n",
    "file1 = open(\"student_score.txt\", \"r\")\n",
    "file2 = open(\"backup.txt\", \"w\")\n",
    "\n",
    "# 학생 성적파일에서 한줄씩 읽어와서\n",
    "# output console에 출력하고 해당내용을 backup파일에 저장\n",
    "\n",
    "while True:\n",
    "    line = file1.readline()\n",
    "   # print(line)             # 출력한 다음 한줄을 띄워요\n",
    "    print(line, end = \"\")   # 개행을 안함.\n",
    "    if not line:\n",
    "        break;             # 인접한 가장 가까운 반복문 1개만 탈출\n",
    "    file2.write(line)\n",
    "\n",
    "file1.close()    # 파일을 open했으면 반드시 닫아주어야 출력됨\n",
    "file2.close()\n",
    "\n",
    "# 홍길동,18,7,19(개행문자 \\n)\n",
    "# 최길동,58,70,15(개행문자 \\n)\n",
    "# 아이유,92,94,99(개행문자 \\n)\n",
    "\n"
   ]
  },
  {
   "cell_type": "code",
   "execution_count": 60,
   "metadata": {
    "scrolled": true
   },
   "outputs": [
    {
     "name": "stdout",
     "output_type": "stream",
     "text": [
      "['홍길동', '18', '7', '19', '14.666666666666666']\n",
      "['최길동', '58', '70', '15', '47.666666666666664']\n",
      "['아이유', '92', '94', '99', '95.0']\n",
      "['김연아', '17', '20', '22', '19.666666666666668']\n",
      "['이선희', '76', '25', '14', '38.333333333333336']\n",
      "['강감찬', '90', '19', '71', '60.0']\n",
      "['신사임당', '31', '23', '16', '23.333333333333332']\n"
     ]
    }
   ],
   "source": [
    "## 문제 8. \n",
    "## \n",
    "## student_score.txt의 내용을 읽어서\n",
    "## 학생 성적에 대한 전체 평균을 구하고\n",
    "## 성적순으로 출력하세요\n",
    "## 출력형식 : 이름,성적평균,등수\n",
    "\n",
    "file3 = open(\"student_score.txt\", \"r\")\n",
    "\n",
    "while True:\n",
    "    line=file3.readline()\n",
    "    \n",
    "    if not line:\n",
    "        break;\n",
    "    line = line.split(\",\")\n",
    "    line[3] = line[3].replace(\"\\n\", \"\")\n",
    "    line.append((int(line[1])+int(line[2])+int(line[3]))/3)\n",
    "    line[4] = str(line[4])\n",
    "    print(line)\n",
    "#     sor = line[4]\n",
    "#     sor = float(sor)\n",
    "#     rank = sorted(sor)\n",
    "#     print(rank)\n",
    "\n",
    "    \n",
    "\n"
   ]
  },
  {
   "cell_type": "code",
   "execution_count": 4,
   "metadata": {
    "scrolled": true
   },
   "outputs": [
    {
     "name": "stdout",
     "output_type": "stream",
     "text": [
      "학생의 이름은 : 홍길동, 평균은 : 14.67\n",
      "학생의 이름은 : 최길동, 평균은 : 47.67\n",
      "학생의 이름은 : 아이유, 평균은 : 95.00\n",
      "학생의 이름은 : 김연아, 평균은 : 19.67\n",
      "학생의 이름은 : 이선희, 평균은 : 38.33\n",
      "학생의 이름은 : 강감찬, 평균은 : 60.00\n",
      "학생의 이름은 : 신사임당, 평균은 : 23.33\n",
      "\n",
      "학생의 이름은 : 홍길동, 평균은 : 14.67\n",
      "학생의 이름은 : 김연아, 평균은 : 19.67\n",
      "학생의 이름은 : 신사임당, 평균은 : 23.33\n",
      "학생의 이름은 : 이선희, 평균은 : 38.33\n",
      "학생의 이름은 : 최길동, 평균은 : 47.67\n",
      "학생의 이름은 : 강감찬, 평균은 : 60.00\n",
      "학생의 이름은 : 아이유, 평균은 : 95.00\n"
     ]
    }
   ],
   "source": [
    "## class를  이용하는 방법\n",
    "\n",
    "import student_score as ss\n",
    "import operator     # 정렬을 편하게 하기 위해서\n",
    "\n",
    "result = list()    # 학생개체들이 모여있는 리스트\n",
    "studentFile = open(\"student_score.txt\", \"r\")\n",
    "\n",
    "while True:\n",
    "    stu = (studentFile.readline()).replace(\"\\n\",\"\")\n",
    "    if stu == \"\":\n",
    "        break;\n",
    "    stu_list = stu.split(\",\")     # ,를 기준으로 문자열을 분리해 list로 리턴\n",
    "                                  # ['홍길동','18','7','19']\n",
    "    result.append(ss.Student(stu_list[0], stu_list[1], stu_list[2], stu_list[3]))\n",
    "\n",
    "## 정상적으로 데이터가 생성되었는지 확인\n",
    "for s in result:\n",
    "    s.print_student()\n",
    "    \n",
    "# 학생객체가 가지고 있는 sAvg를 이용해서 객체를 리스트안에서 정렬\n",
    "# 외부 module 이용해서 객체를 리스트 안에서 정렬\n",
    "sorted_result = sorted(result, key = operator.attrgetter(\"sAvg\"))\n",
    "# attrgettor : property의 값을 추출\n",
    "\n",
    "# 정렬된 결과를 확인해 보아요\n",
    "print()\n",
    "for s in sorted_result:\n",
    "    s.print_student()\n",
    "    "
   ]
  },
  {
   "cell_type": "code",
   "execution_count": 1,
   "metadata": {},
   "outputs": [
    {
     "ename": "SyntaxError",
     "evalue": "unexpected EOF while parsing (mpgfile.py, line 25)",
     "output_type": "error",
     "traceback": [
      "Traceback \u001b[1;36m(most recent call last)\u001b[0m:\n",
      "  File \u001b[0;32m\"C:\\Users\\student\\Anaconda3\\envs\\cpu_env\\lib\\site-packages\\IPython\\core\\interactiveshell.py\"\u001b[0m, line \u001b[0;32m3326\u001b[0m, in \u001b[0;35mrun_code\u001b[0m\n    exec(code_obj, self.user_global_ns, self.user_ns)\n",
      "\u001b[1;36m  File \u001b[1;32m\"<ipython-input-1-bec9612bfa49>\"\u001b[1;36m, line \u001b[1;32m3\u001b[1;36m, in \u001b[1;35m<module>\u001b[1;36m\u001b[0m\n\u001b[1;33m    import mpgfile as m\u001b[0m\n",
      "\u001b[1;36m  File \u001b[1;32m\"C:\\python_DA\\python_Lib\\mpgfile.py\"\u001b[1;36m, line \u001b[1;32m25\u001b[0m\n\u001b[1;33m    \u001b[0m\n\u001b[1;37m    ^\u001b[0m\n\u001b[1;31mSyntaxError\u001b[0m\u001b[1;31m:\u001b[0m unexpected EOF while parsing\n"
     ]
    }
   ],
   "source": [
    "# 1. displ(배기량)이 4 이하인 자동차와 5 이상인 자동차 중 어떤 자동차의 hwy(고속도로 연비)가 평균적으로 더 높은지 확인하세요.\n",
    "\n",
    "import mpgfile as m\n",
    "import operator\n",
    "\n",
    "mpgresult = list()\n",
    "mpgFile = open(\"mpg.csv\", \"r\")\n",
    "\n",
    "while True:\n",
    "    mpg = (mpgFile.readline()).replace(\"\\n\",\"\")\n",
    "    if mpg == \"\":\n",
    "        break;\n",
    "    mpg_list = mpg.split(\",\")\n",
    "    mpgresult.append(m.mpg(mpg_list[0], mpg_list[1], mpg_list[2], mpg_list[3],mpg_list[4],mpg_list[5],\n",
    "                          mpg_list[6], mpg_list[7], mpg_list[8],mpg_list[9], mpg_list[10]))\n",
    "\n",
    "sorted_mpgresult = sorted(mpgresult, key = operator.attrgetter(\"mpgDis\"))\n",
    "for i in sorted_mpgresult:\n",
    "     i.disp4()"
   ]
  },
  {
   "cell_type": "code",
   "execution_count": null,
   "metadata": {},
   "outputs": [],
   "source": []
  }
 ],
 "metadata": {
  "kernelspec": {
   "display_name": "[CPU_ENV]",
   "language": "python",
   "name": "cpu_env"
  },
  "language_info": {
   "codemirror_mode": {
    "name": "ipython",
    "version": 3
   },
   "file_extension": ".py",
   "mimetype": "text/x-python",
   "name": "python",
   "nbconvert_exporter": "python",
   "pygments_lexer": "ipython3",
   "version": "3.6.9"
  }
 },
 "nbformat": 4,
 "nbformat_minor": 2
}
