{
 "cells": [
  {
   "cell_type": "code",
   "execution_count": 10,
   "metadata": {},
   "outputs": [
    {
     "ename": "IndexError",
     "evalue": "list assignment index out of range",
     "output_type": "error",
     "traceback": [
      "\u001b[1;31m---------------------------------------------------------------------------\u001b[0m",
      "\u001b[1;31mIndexError\u001b[0m                                Traceback (most recent call last)",
      "\u001b[1;32m<ipython-input-10-fdc73b8125ee>\u001b[0m in \u001b[0;36m<module>\u001b[1;34m\u001b[0m\n\u001b[0;32m     49\u001b[0m \u001b[1;33m\u001b[0m\u001b[0m\n\u001b[0;32m     50\u001b[0m \u001b[0mstudents\u001b[0m \u001b[1;33m=\u001b[0m \u001b[0mlist\u001b[0m\u001b[1;33m(\u001b[0m\u001b[1;33m)\u001b[0m\u001b[1;33m\u001b[0m\u001b[1;33m\u001b[0m\u001b[0m\n\u001b[1;32m---> 51\u001b[1;33m \u001b[0mstudents\u001b[0m\u001b[1;33m[\u001b[0m\u001b[1;36m0\u001b[0m\u001b[1;33m]\u001b[0m \u001b[1;33m=\u001b[0m \u001b[0mStudent\u001b[0m\u001b[1;33m(\u001b[0m\u001b[1;34m\"홍길동\"\u001b[0m\u001b[1;33m)\u001b[0m     \u001b[1;31m# 객체\u001b[0m\u001b[1;33m\u001b[0m\u001b[1;33m\u001b[0m\u001b[0m\n\u001b[0m\u001b[0;32m     52\u001b[0m \u001b[1;31m# t = Student(\"홍길동\")   # 객체 생성\u001b[0m\u001b[1;33m\u001b[0m\u001b[1;33m\u001b[0m\u001b[1;33m\u001b[0m\u001b[0m\n\u001b[0;32m     53\u001b[0m \u001b[1;31m# 이 코드에 의해서 만들어진 메모리 저장 공간 (instance) => 객체\u001b[0m\u001b[1;33m\u001b[0m\u001b[1;33m\u001b[0m\u001b[1;33m\u001b[0m\u001b[0m\n",
      "\u001b[1;31mIndexError\u001b[0m: list assignment index out of range"
     ]
    }
   ],
   "source": [
    "## 객체지향 프로그래밍(Object-oriented programming)\n",
    "\n",
    "## 함수기반의 프로그래밍을 하면 좋아요!\n",
    "## 1970년부터 시작해서 지금까지 이 방식으로 프로그래밍을 하고 있어요\n",
    "## 장점 : 프로그래밍이 쉬워요 => 빨리 만들 수 있어요!\n",
    "##        => 비용이 적게 들어요!\n",
    "## 단점 : 처음에는 단점이 별로 없어 보였음\n",
    "## 1990년에 세상이 변하기 시작했어요 => 인터넷 보급 => 정보량이 많아지기 시작\n",
    "## 프로그램의 유지보수 요구가 많아지기 시작\n",
    "## 절차적 프로그램으로 프로그램을 작성해서 유지보수측면 문제가 발생\n",
    "\n",
    "## 어떤 방식으로 프로그램을 만들면 유지보수측면에서 이점이 있을까?\n",
    "## => 객체지향 패러다임이 시작, 대세가 됨\n",
    "\n",
    "## 객체지향이 어떤 프로그래밍 방식인지를 인지하자\n",
    "## 현실세계에 잘 부합하는(변화에 잘 적응하는) 프로그램을 만들기 위해\n",
    "## 해결해야 하는 문제(현실세계의 문제)를 똑같이 프로그램으로 모델링하면 되는거 아니야??\n",
    "\n",
    "## ex. 은행프로그램을 만들려고 해요\n",
    "## 은행프로그램을 구성하는 구성요소를 파악\n",
    "## 텔러, 고객, 은행계좌, 지점, 테이블,...\n",
    "## 분석하는 사람마다 결과가 다름\n",
    "## 구성요소들간의 행위들을 정의하는 프로그래밍 방식\n",
    "## ex. 은행계좌(객체)를 프로그램으로 표현(객체 모델링)\n",
    "## 객체들은 크게 2가지로 파악할 수 있어요\n",
    "## 상태와 행위로 파악\n",
    "## 상태는 값으로 표현되는 것, 행위는 동작으로 표현되는 것\n",
    "## 상태 -> 잔액, 예금주, 계좌번호, ...\n",
    "## 행위 -> 출금, 입금, 조회, ...  => abstraction(추상화)\n",
    "##\n",
    "## class : 객체 모델링의 수단, 추상 데이터 타입\n",
    "## 클래스의 이름은 대문자로 시작(관용적)\n",
    "## \n",
    "class Student:\n",
    "    # 상태(값) : 이름, 학과, 학년, 학번, 성별\n",
    "    # 상태는 변수로 표현 => properties\n",
    "    S_nation = \"\"                                   # class variable( 모든 객체가 공유하는 변수)\n",
    "   \n",
    "    # 생성자(constructor) - 반드시 호출되어야 만들어짐\n",
    "    def __init__(self,n):                \n",
    "        self.S_name = n    # instance variable( 객체가 독립적으로 가지고 있는 변수)\n",
    "        self.S_num = \"\"    # instance variable\n",
    "        self.S_major = []  # list로 만들면 원하는만큼 넣을 수 있음 => 이중전공도 표시 된다는의미\n",
    "    \n",
    "    # 행위(동작)\n",
    "    # 행위는 함수로 표현 => method\n",
    "    def display(self):\n",
    "        print(\"학생이름은 : {}\".format(self.S_name))\n",
    "\n",
    "students = list()\n",
    "students.append(Student(\"홍길동\")) # 객체\n",
    "students.append(Student(\"김연아\"))\n",
    "# t = Student(\"홍길동\")   # 객체 생성\n",
    "# 이 코드에 의해서 만들어진 메모리 저장 공간 (instance) => 객체\n",
    "# class내부에 정의된 생성자라고 불리는 함수가 호출돼요!\n",
    "t.display()\n",
    "Student.S_nation = \"한국\"\n",
    "print(t.S_nation)\n",
    "\n",
    "k = Student(\"김연아\")\n",
    "k.display()\n",
    "print(k.S_nation)"
   ]
  }
 ],
 "metadata": {
  "kernelspec": {
   "display_name": "[CPU_ENV]",
   "language": "python",
   "name": "cpu_env"
  },
  "language_info": {
   "codemirror_mode": {
    "name": "ipython",
    "version": 3
   },
   "file_extension": ".py",
   "mimetype": "text/x-python",
   "name": "python",
   "nbconvert_exporter": "python",
   "pygments_lexer": "ipython3",
   "version": "3.6.9"
  }
 },
 "nbformat": 4,
 "nbformat_minor": 2
}
