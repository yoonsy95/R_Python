{
 "cells": [
  {
   "cell_type": "code",
   "execution_count": null,
   "metadata": {},
   "outputs": [],
   "source": [
    "# - 총 2주 // 중간 1주: 깃허브 특강\n",
    "#   해당기간동안 별도의강의는 진행되지 않음\n",
    "#   수업진행은 똑같이 50분 진행, 10분 휴식\n",
    "#   외부에서 떠드는건 안되요! (강의실 내에서 자유롭게 토의)\n",
    "\n",
    "# - 프로젝트 기획, 데이터 수집, 가공, 분석, 시각화\n",
    "#   R로 구현(Required)\n",
    "#   Python구현(Optional)\n",
    "\n",
    "# - R과 Python에 대한 Review\n",
    "#   => 배운 내용 정리(6주간 배운내용 정리)\n",
    "#   => 프로그래밍 실습은 백준 사이트 및 스터디에서 진행\n",
    "\n",
    "# - 개인면담 진행"
   ]
  }
 ],
 "metadata": {
  "kernelspec": {
   "display_name": "[CPU_ENV]",
   "language": "python",
   "name": "cpu_env"
  },
  "language_info": {
   "codemirror_mode": {
    "name": "ipython",
    "version": 3
   },
   "file_extension": ".py",
   "mimetype": "text/x-python",
   "name": "python",
   "nbconvert_exporter": "python",
   "pygments_lexer": "ipython3",
   "version": "3.6.9"
  }
 },
 "nbformat": 4,
 "nbformat_minor": 2
}
