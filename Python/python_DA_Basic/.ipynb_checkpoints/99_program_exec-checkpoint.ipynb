{
 "cells": [
  {
   "cell_type": "code",
   "execution_count": 23,
   "metadata": {
    "scrolled": false
   },
   "outputs": [
    {
     "name": "stdout",
     "output_type": "stream",
     "text": [
      "233168\n"
     ]
    }
   ],
   "source": [
    "### 문제 1.   10보다 작은 자연수 중에서 3 또는 5의 배수는\n",
    "###           3,5,6,9가 존재해요!  이것들의 합은 23입니다.\n",
    "\n",
    "###           1000보다 작은 자연수 중에서 3 또는 5의 배수들을 구해서 모두 합하면 얼마인가요?\n",
    "###            (정답 :  233168)\n",
    "\n",
    "b=0;\n",
    "for k in range(1000):\n",
    "    if k % 3 == 0:\n",
    "        b += k\n",
    "    elif k % 5 == 0:\n",
    "        b += k\n",
    "print(b)"
   ]
  },
  {
   "cell_type": "code",
   "execution_count": 35,
   "metadata": {
    "scrolled": false
   },
   "outputs": [
    {
     "name": "stdout",
     "output_type": "stream",
     "text": [
      "4613732\n"
     ]
    },
    {
     "data": {
      "text/plain": [
       "[1,\n",
       " 2,\n",
       " 3,\n",
       " 5,\n",
       " 8,\n",
       " 13,\n",
       " 21,\n",
       " 34,\n",
       " 55,\n",
       " 89,\n",
       " 144,\n",
       " 233,\n",
       " 377,\n",
       " 610,\n",
       " 987,\n",
       " 1597,\n",
       " 2584,\n",
       " 4181,\n",
       " 6765,\n",
       " 10946,\n",
       " 17711,\n",
       " 28657,\n",
       " 46368,\n",
       " 75025,\n",
       " 121393,\n",
       " 196418,\n",
       " 317811,\n",
       " 514229,\n",
       " 832040,\n",
       " 1346269,\n",
       " 2178309,\n",
       " 3524578,\n",
       " 5702887]"
      ]
     },
     "execution_count": 35,
     "metadata": {},
     "output_type": "execute_result"
    }
   ],
   "source": [
    "### 문제 2.    피보나치 수열의 각 항은 바로 앞의 항 2개를 더한 것이 돼요\n",
    "###         1과 2로 시작하는 피보나치 수열은\n",
    "###         1, 2, 3, 5, 8, 13, 21, 34, ...\n",
    "\n",
    "###           짝수이면서 4백만 이하인 모든 항을 더하면 얼마일까요?\n",
    "\n",
    "a = [1,2]\n",
    "b = 0;\n",
    "while a[-1]+a[-2] <= 4000000:\n",
    "    a.append(a[-1]+a[-2])\n",
    "for k in range(len(a)):\n",
    "    if a[k] % 2 == 0:\n",
    "        b += a[k]\n",
    "print(b)\n",
    "\n",
    "### 강사님 방법\n",
    "\n",
    "myList = [1,2]    # list에 더한 결과를 추가하면서 수열 완성\n",
    "while myList[-1] <= 4000000:\n",
    "    myList.append(myList[-1] + myList[-2])\n",
    "    \n",
    "myList\n",
    "    "
   ]
  },
  {
   "cell_type": "code",
   "execution_count": 167,
   "metadata": {
    "scrolled": true
   },
   "outputs": [
    {
     "name": "stdout",
     "output_type": "stream",
     "text": [
      "가장 많이 나온 알파벳:I,횟수:7\n",
      "가장 많이 나온 알파벳:c,횟수:5\n"
     ]
    }
   ],
   "source": [
    "### 문제 3. 알파벳 대소문자로 되어 있는 문자열이 주어져요!!\n",
    "###        이 문자열에서 가장 많이 사용된 알파벳이 무엇인지 출력하는 프로그램을 작성하세요\n",
    "###        단, 대소문자 구별하지 않아요. 만약 동률이 존재하면 알파벳 순서가 앞에 있는 알파벳을 출력\n",
    "###        공백은 제외\n",
    "\"This is a sample Program mississippi river\"\n",
    "\"abcdabcdababccddcd\"\n",
    "a = \"This is a sample Program mississippi river\" \n",
    "a_U = a.upper() \n",
    "myList= sorted(a_U) \n",
    "del myList[0:6]  \n",
    "myList1 = [] \n",
    "for k in range(len(myList)): \n",
    "    myList1.append(ord(myList[k]))\n",
    "myList2 = []\n",
    "for i in range(len(myList1)):\n",
    "    myList2.append(myList1.count(myList1[i]))\n",
    "a = \"가장 많이 나온 알파벳:{},횟수:{}\".format(chr(myList1[myList2.index(7)]),myList.count(chr(myList1[myList2.index(7)])))\n",
    "print(a)\n",
    "\n",
    "b = \"abcdabcdababccddcd\"\n",
    "bList = sorted(b)\n",
    "bList1 = []\n",
    "for k in range(len(bList)):\n",
    "    bList1.append(ord(bList[k]))\n",
    "bList2 = []\n",
    "for i in range(len(bList1)):\n",
    "    bList2.append(bList1.count(bList1[i]))\n",
    "b = \"가장 많이 나온 알파벳:{},횟수:{}\".format(chr(bList1[bList2.index(5)]),bList.count(chr(bList1[bList2.index(5)])))\n",
    "print(b)"
   ]
  },
  {
   "cell_type": "code",
   "execution_count": 148,
   "metadata": {},
   "outputs": [
    {
     "name": "stdout",
     "output_type": "stream",
     "text": [
      "[3, 2, 2, 2, 1, 3, 2, 3, 2, 2]\n"
     ]
    },
    {
     "data": {
      "text/plain": [
       "1"
      ]
     },
     "execution_count": 148,
     "metadata": {},
     "output_type": "execute_result"
    }
   ],
   "source": [
    "\n",
    "a = [1,2,3,4,5,1,2,1,3,4]\n",
    "b = []\n",
    "for i in range(len(a)):\n",
    "    b.append(a.count(a[i]))\n",
    "print(b)\n",
    "a[b.index(3)]\n",
    "## print(max(a.count(for i in range(len(a)):\n",
    "             \n",
    "    "
   ]
  },
  {
   "cell_type": "code",
   "execution_count": 61,
   "metadata": {},
   "outputs": [
    {
     "name": "stdout",
     "output_type": "stream",
     "text": [
      "a:b:c:d\n"
     ]
    }
   ],
   "source": []
  },
  {
   "cell_type": "code",
   "execution_count": 143,
   "metadata": {},
   "outputs": [
    {
     "name": "stdout",
     "output_type": "stream",
     "text": [
      "['A', 'A', 'A', 'E', 'E', 'G', 'H', 'I', 'I', 'I', 'I', 'I', 'I', 'I', 'L', 'M', 'M', 'M', 'O', 'P', 'P', 'P', 'P', 'R', 'R', 'R', 'R', 'S', 'S', 'S', 'S', 'S', 'S', 'S', 'T', 'V']\n"
     ]
    }
   ],
   "source": []
  }
 ],
 "metadata": {
  "kernelspec": {
   "display_name": "[CPU_ENV]",
   "language": "python",
   "name": "cpu_env"
  },
  "language_info": {
   "codemirror_mode": {
    "name": "ipython",
    "version": 3
   },
   "file_extension": ".py",
   "mimetype": "text/x-python",
   "name": "python",
   "nbconvert_exporter": "python",
   "pygments_lexer": "ipython3",
   "version": "3.6.9"
  }
 },
 "nbformat": 4,
 "nbformat_minor": 2
}
