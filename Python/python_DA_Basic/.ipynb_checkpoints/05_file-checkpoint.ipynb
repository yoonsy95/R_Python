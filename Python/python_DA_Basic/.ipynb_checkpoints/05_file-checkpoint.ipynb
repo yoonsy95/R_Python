{
 "cells": [
  {
   "cell_type": "code",
   "execution_count": 6,
   "metadata": {},
   "outputs": [
    {
     "name": "stdout",
     "output_type": "stream",
     "text": [
      "홍길동,18,7,19\n",
      "최길동,58,70,15\n",
      "아이유,92,94,99\n",
      "김연아,17,20,22\n",
      "이선희,76,25,14\n",
      "강감찬,90,19,71\n",
      "신사임당,31,23,16"
     ]
    }
   ],
   "source": [
    "## python의 기본 파일처리\n",
    "\n",
    "## 먼저 file handle을 획득해야 해요\n",
    "## 사용할 데이터파일을 오픈해요!!\n",
    "## 읽기용도, 쓰기용도\n",
    "\n",
    "file1 = open(\"student_score.txt\", \"r\")\n",
    "file2 = open(\"backup.txt\", \"w\")\n",
    "\n",
    "# 학생 성적파일에서 한줄씩 읽어와서\n",
    "# output console에 출력하고 해당내용을 backup파일에 저장\n",
    "\n",
    "while True:\n",
    "    line = file1.readline()\n",
    "   # print(line)             # 출력한 다음 한줄을 띄워요\n",
    "    print(line, end = \"\")   # 개행을 안함.\n",
    "    if not line:\n",
    "        break;             # 인접한 가장 가까운 반복문 1개만 탈출\n",
    "    file2.write(line)\n",
    "\n",
    "file1.close()    # 파일을 open했으면 반드시 닫아주어야 출력됨\n",
    "file2.close()\n",
    "\n",
    "# 홍길동,18,7,19(개행문자 \\n)\n",
    "# 최길동,58,70,15(개행문자 \\n)\n",
    "# 아이유,92,94,99(개행문자 \\n)\n",
    "\n"
   ]
  },
  {
   "cell_type": "code",
   "execution_count": 60,
   "metadata": {
    "scrolled": true
   },
   "outputs": [
    {
     "name": "stdout",
     "output_type": "stream",
     "text": [
      "['홍길동', '18', '7', '19', '14.666666666666666']\n",
      "['최길동', '58', '70', '15', '47.666666666666664']\n",
      "['아이유', '92', '94', '99', '95.0']\n",
      "['김연아', '17', '20', '22', '19.666666666666668']\n",
      "['이선희', '76', '25', '14', '38.333333333333336']\n",
      "['강감찬', '90', '19', '71', '60.0']\n",
      "['신사임당', '31', '23', '16', '23.333333333333332']\n"
     ]
    }
   ],
   "source": [
    "## 문제 8. \n",
    "## \n",
    "## student_score.txt의 내용을 읽어서\n",
    "## 학생 성적에 대한 전체 평균을 구하고\n",
    "## 성적순으로 출력하세요\n",
    "## 출력형식 : 이름,성적평균,등수\n",
    "\n",
    "file3 = open(\"student_score.txt\", \"r\")\n",
    "\n",
    "while True:\n",
    "    line=file3.readline()\n",
    "    \n",
    "    if not line:\n",
    "        break;\n",
    "    line = line.split(\",\")\n",
    "    line[3] = line[3].replace(\"\\n\", \"\")\n",
    "    line.append((int(line[1])+int(line[2])+int(line[3]))/3)\n",
    "    line[4] = str(line[4])\n",
    "    print(line)\n",
    "#     sor = line[4]\n",
    "#     sor = float(sor)\n",
    "#     rank = sorted(sor)\n",
    "#     print(rank)\n",
    "\n",
    "    \n",
    "\n"
   ]
  },
  {
   "cell_type": "code",
   "execution_count": 1,
   "metadata": {},
   "outputs": [],
   "source": [
    "## class를  이용하는 방법\n",
    "\n",
    "import student_score as ss\n",
    "\n",
    "result = list()    # 학생개체들이 모여있는 리스트\n",
    "studentFile = open(\"student_score.txt\", \"r\")\n",
    "\n",
    "while True:\n",
    "    stu = studentFile.readline()\n",
    "    if stu == \"\":\n",
    "        break;\n",
    "    stu_list = stu.split(\",\")     # ,를 기준으로 문자열을 분리해 list로 리턴\n",
    "                                  # ['홍길동','18','7','19']\n",
    "    result.append(ss.Student(stu_list[0], stu_list[1], stu_list[2], stu_list[3]))\n",
    "\n",
    "## 정상적으로 데이터가 생성되었는지 확인\n",
    "for ss in result:\n",
    "    ss.print_student()\n",
    "    "
   ]
  }
 ],
 "metadata": {
  "kernelspec": {
   "display_name": "[CPU_ENV]",
   "language": "python",
   "name": "cpu_env"
  },
  "language_info": {
   "codemirror_mode": {
    "name": "ipython",
    "version": 3
   },
   "file_extension": ".py",
   "mimetype": "text/x-python",
   "name": "python",
   "nbconvert_exporter": "python",
   "pygments_lexer": "ipython3",
   "version": "3.6.9"
  }
 },
 "nbformat": 4,
 "nbformat_minor": 2
}
