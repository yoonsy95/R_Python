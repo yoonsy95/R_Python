{
 "cells": [
  {
   "cell_type": "code",
   "execution_count": 1,
   "metadata": {},
   "outputs": [
    {
     "name": "stdout",
     "output_type": "stream",
     "text": [
      "10\n"
     ]
    }
   ],
   "source": [
    "a = [1,2,3,4]\n",
    "\n",
    "mySum = 0\n",
    "\n",
    "for i in a:\n",
    "    mySum += i\n",
    "    \n",
    "print(mySum)\n",
    "\n",
    "mySum = sum(a) # 같은 결과를 도출( python의 내장함수 )"
   ]
  },
  {
   "cell_type": "code",
   "execution_count": 3,
   "metadata": {},
   "outputs": [
    {
     "name": "stdout",
     "output_type": "stream",
     "text": [
      "100 200 300\n",
      "입력받은 값은 : 100 200 300\n",
      "최종결과는 600\n"
     ]
    }
   ],
   "source": [
    "## function ( 함수 )\n",
    "\n",
    "## 숫자를 입력받아서            => 단위 기능으로 간주 => 함수\n",
    "## 해당숫자를 모두 더한 후      => 단위 기능으로 간주 => 함수\n",
    "## '결과값은 : xx 입니다.' 형식으로 출력              => 함수\n",
    "\n",
    "## 이렇게 함수기반의 프로그래밍 방식을 절차적 프로그래밍( procedural programing )\n",
    "\n",
    "## python에서 함수는 크게 2가지로 구분\n",
    "## 1. 내장함수 ( sum(), .... )\n",
    "## 2. 사용자 정의 함수 ( user define 함수 )\n",
    "## 사용자 정의함수를 만드는 keyword는 def\n",
    "\n",
    "## 함수이름은 소문자로 시작( 관용적으로 )\n",
    "## 함수의 정의 ( definition ) => 함수의 이름, 인자형태, 인자개수 + 기능구현\n",
    "def mySum(a,b,c):\n",
    "    # 함수의 기능을 구현해요\n",
    "    total = a + b + c\n",
    "    return total\n",
    "\n",
    "\n",
    "inputValue = input() # 입력받는 내장함수, 무조건 str로 받아요\n",
    "# 숫자 3개를 받아보아요!\n",
    "\n",
    "print(\"입력받은 값은 : {}\".format(inputValue))\n",
    "var1 = inputValue.split(\" \")     # 값을 분리해서 list로 return\n",
    "\n",
    "result = mySum(int(var1[0]),int(var1[1]), int(var1[2]))\n",
    "\n",
    "print(\"최종결과는 {}\".format(result))\n"
   ]
  },
  {
   "cell_type": "code",
   "execution_count": 5,
   "metadata": {},
   "outputs": [
    {
     "name": "stdout",
     "output_type": "stream",
     "text": [
      "최종 결과는 : 100\n",
      "최종 결과는 : 180\n"
     ]
    }
   ],
   "source": [
    "### \n",
    "\n",
    "def mySum2(*args):     # args가 tuple로 간주\n",
    "                       # args => (10,20,30,40)\n",
    "    # 전달받은 모든 값들을 더해서 리턴\n",
    "    k = 0\n",
    "    for i in range(len(args)):\n",
    "        k += args[i]\n",
    "    return k\n",
    "    \n",
    "total = mySum2(10,20,30,40)\n",
    "print(\"최종 결과는 : {}\".format(total))\n",
    "total = mySum2(30,40,50,60)\n",
    "print(\"최종 결과는 : {}\".format(total))"
   ]
  },
  {
   "cell_type": "code",
   "execution_count": 10,
   "metadata": {},
   "outputs": [
    {
     "name": "stdout",
     "output_type": "stream",
     "text": [
      "300\n",
      "300 20000\n"
     ]
    }
   ],
   "source": [
    "## 함수를 하나 정의해요\n",
    "## 숫자 2개 받아서 두개의 합과 두개의 곱을 리턴할거에요\n",
    "## tuple을 이용해서 마치 여러개의 값이 리턴되는것처럼 사용할 수 있어요\n",
    "\n",
    "def multi_process(x,y):\n",
    "    result1 = x + y\n",
    "    result2 = x * y\n",
    "    return result1, result2\n",
    "\n",
    "a,b = multi_process(100,200)\n",
    "## a.b = (300,20000)과 동일한 결과\n",
    "print(a)\n",
    "print(a,b)"
   ]
  },
  {
   "cell_type": "code",
   "execution_count": 13,
   "metadata": {},
   "outputs": [
    {
     "name": "stdout",
     "output_type": "stream",
     "text": [
      "6\n",
      "103\n"
     ]
    }
   ],
   "source": [
    "## 사용자 정의 함수를 만들어요\n",
    "## default parameter\n",
    "\n",
    "def mySum(a,b,c=100):           # 마지막 parameter default값을 지정\n",
    "    return a+b+c\n",
    "\n",
    "total = mySum(1,2,3)\n",
    "print(total)\n",
    "total = mySum(1,2)\n",
    "print(total)"
   ]
  },
  {
   "cell_type": "code",
   "execution_count": 14,
   "metadata": {},
   "outputs": [
    {
     "name": "stdout",
     "output_type": "stream",
     "text": [
      "30\n"
     ]
    }
   ],
   "source": [
    "tmp = 100                  # global variable\n",
    "\n",
    "def myFunc(x):             # 함수안에서의 변수는 local variable ( 지역 변수 )\n",
    "                           # 여기서 tmp는 밖의 tmp와 전혀 다른 변수\n",
    "    global tmp\n",
    "    tmp = 10               \n",
    "    tmp += x               # 즉, 변수 이름이 같아도 상관 없음\n",
    "                           # local variable은 함수가 호출될 때 생성되고 수행이 끝나면 없어져요\n",
    "                           # 함수 밖에 있는 tmp를 지정하고 싶을때는 global.tmp = 10 으로 사용\n",
    "                           # global 사용하지 않는것이 좋음\n",
    "    return tmp\n",
    "print(myFunc(20))   # 30\n",
    "print(tmp)          # 100"
   ]
  },
  {
   "cell_type": "code",
   "execution_count": 23,
   "metadata": {},
   "outputs": [
    {
     "name": "stdout",
     "output_type": "stream",
     "text": [
      "<class 'dict'>\n",
      "False\n",
      "5\n",
      "3.0\n",
      "이것은 소리없는 아우성\n",
      "이것은 소리없는 아우성\n",
      "이것은-소리없는-아우성\n"
     ]
    }
   ],
   "source": [
    "### 사용자 정의 함수는 위에서 설명한 그 방식대로 이용하면 돼요\n",
    "### 프로그램을 작성할 때 함수를 어떻게 정의해서 사용할 것인가를 고민해서 작성\n",
    "\n",
    "### 나머지는 내장함수에요. python이 제공해주는 함수\n",
    "### int() : 인자로 들어온 놈을 정수로 변환\n",
    "### abs() : 절대값을 리턴하는 함수\n",
    "\n",
    "### all() : 인자로 반복가능한 타입이 와야해요\n",
    "###         인자로 들어온 값이 모두 True일 경우 True로 리턴\n",
    "\n",
    "a = [True,100,{},3.14]\n",
    "print(type({}))   # 기본적으로 빈 {}는 dict로 인식\n",
    "print(all(a))   # False ( True = True, 100 =True, {} = False, 3.14 = True )\n",
    "\n",
    "### any() : 인자로 반복가능한 타입이 와야해요\n",
    "###         인자로 들어온 값 중 True가 있으면 True로 리턴\n",
    "### len() : 길이구하는 내장함수\n",
    "### list() : 리스트 만들어주는 함수\n",
    "### tuple() : tuple로 변환하는 함수\n",
    "### str() : 문자열로 변환하는 함수\n",
    "### type() : 인자로 들어온 데이터의 type을 return\n",
    "### max(),min() : 최대, 최소를 구하는 함수\n",
    "a = [1,2,3,4,5]\n",
    "print(max(a))         # sum(), max(), min()\n",
    "\n",
    "# mean은 함수 제공 X, 구하는 방법\n",
    "print(sum(a)/len(a))\n",
    "\n",
    "### sorted() : 오름차순으로 정렬해주는 함수\n",
    "\n",
    "a = [\"이것은\", \"소리없는\", \"아우성\"]\n",
    "# \"이것은 소리없는 아우성\"\n",
    "# join()함수를 이용하면 편해요\n",
    "b = \" \"\n",
    "print(b.join(a))\n",
    "print(\" \".join(a))\n",
    "print(\"-\".join(a))\n",
    "\n",
    "############################## 함수에 대한 설명 ####################################"
   ]
  },
  {
   "cell_type": "code",
   "execution_count": 5,
   "metadata": {
    "scrolled": true
   },
   "outputs": [
    {
     "name": "stdout",
     "output_type": "stream",
     "text": [
      "906609\n"
     ]
    }
   ],
   "source": [
    "## 문제 6. 앞에서 읽을때나 뒤에서부터 읽을 때 모양이 같은 수를 대칭수라고 합니다.\n",
    "## 두자리 수 를 곱해서 만들 수 있는 대칭수 중에\n",
    "## 가장 큰 수는 9009 (91* 99) 입니다.\n",
    "\n",
    "## 세자리 수를 곱해서 만들 수 있는 가장 큰 대칭수는 얼마?\n",
    "\n",
    "def palindromic(x):\n",
    "    number = []\n",
    "    for i in range( 10 ** (x-1), 10 **x ):\n",
    "        for k in range(10 ** (x-1), 10 **x ):\n",
    "            a = i * k\n",
    "            b = str(a)\n",
    "            c = b[::-1]\n",
    "            if b == c:\n",
    "                number.append(a)\n",
    "    return(number)\n",
    "\n",
    "print(max(palindromic(3)))\n"
   ]
  },
  {
   "cell_type": "code",
   "execution_count": 60,
   "metadata": {},
   "outputs": [
    {
     "name": "stdout",
     "output_type": "stream",
     "text": [
      "906609\n"
     ]
    }
   ],
   "source": [
    "###### 강사님\n",
    "def check_number(x):\n",
    "    str1 = str(x)\n",
    "    tmp = list(str(x))\n",
    "    tmp.reverse()\n",
    "    if (str1 == \"\".join(tmp)):\n",
    "        return True\n",
    "    else:\n",
    "        return False\n",
    "result = []\n",
    "for i in range(100,1000):\n",
    "    for j in range(100,1000):\n",
    "        if check_number(i*j):\n",
    "            result.append(i*j)\n",
    "print(max(result))"
   ]
  },
  {
   "cell_type": "code",
   "execution_count": 1,
   "metadata": {},
   "outputs": [
    {
     "name": "stdout",
     "output_type": "stream",
     "text": [
      "99000099\n"
     ]
    }
   ],
   "source": [
    "def check_number(x):\n",
    "    str1 = str(x)\n",
    "    tmp = list(str(x))\n",
    "    tmp.reverse()\n",
    "    if (str1 == \"\".join(tmp)):\n",
    "        return True\n",
    "    else:\n",
    "        return False\n",
    "def calcul_number(x):       # x : 1이면 2자리 수끼리 곱\n",
    "                            # x : 2이면 3자리 수끼리 곱\n",
    "        result = []\n",
    "        for i in range(10**x,10**(x+1)):\n",
    "            for j in range(10**x, 10**(x+1)):\n",
    "                if check_number(i*j):\n",
    "                    result.append(i*j)\n",
    "        print(max(result))\n",
    "\n",
    "calcul_number(3)"
   ]
  },
  {
   "cell_type": "code",
   "execution_count": 52,
   "metadata": {},
   "outputs": [
    {
     "name": "stdout",
     "output_type": "stream",
     "text": [
      "1234\n",
      "4321\n"
     ]
    }
   ],
   "source": [
    "\n",
    "a = 1234\n",
    "a = str(a)\n",
    "print(a)\n",
    "b = a[::-1]\n",
    "print(b)\n",
    "\n"
   ]
  },
  {
   "cell_type": "code",
   "execution_count": 13,
   "metadata": {},
   "outputs": [
    {
     "name": "stdout",
     "output_type": "stream",
     "text": [
      "[1, 2, 3, 4, 5, 6, 7, 8, 9, 10]\n"
     ]
    }
   ],
   "source": [
    "## 문제 7.\n",
    "## \n",
    "## 1부터 10사이의 어떤 수로도 나누어 떨어지는 가장 작은 수\n",
    "## 2520입니다.\n",
    "\n",
    "## 1부터 20사이의 어떤 수로도 나누어떨어지는 가장 작은 수는 얼마?\n",
    "\n",
    "def divided(x,y):\n",
    "    myResult = []\n",
    "    for i in range(x:y+1):\n",
    "        if  % i == 0:\n",
    "            \n"
   ]
  },
  {
   "cell_type": "code",
   "execution_count": 19,
   "metadata": {},
   "outputs": [
    {
     "name": "stdout",
     "output_type": "stream",
     "text": [
      "[1, 2, 3, 5, 6, 7, 10, 14, 15, 21, 30, 35, 42, 70, 105]\n",
      "[1, 2, 3, 5, 6, 7, 10]\n"
     ]
    }
   ],
   "source": [
    "num = 210\n",
    "myResult = []\n",
    "for i in range(1, num):\n",
    "    if num % i == 0:\n",
    "        myResult.append(i)\n",
    "print(myResult)\n",
    "\n",
    "myResult1 = []\n",
    "for j in range(len(myResult)):\n",
    "    for k in range(1,11):\n",
    "        if myResult[j] == k:\n",
    "            myResult1.append(k)\n",
    "print(myResult1)"
   ]
  },
  {
   "cell_type": "code",
   "execution_count": 17,
   "metadata": {},
   "outputs": [
    {
     "name": "stdout",
     "output_type": "stream",
     "text": [
      "[1, 2, 3, 5, 7, 11, 13, 17, 19]\n"
     ]
    }
   ],
   "source": [
    "def myFunc(x,y):\n",
    "    prime = []\n",
    "    for k in range(x,y):\n",
    "        div = (k//2) + 1\n",
    "        count = 0\n",
    "    \n",
    "        if div >= 2:\n",
    "            for idx in range(2, div):\n",
    "                if k % idx == 0:\n",
    "                    count += 1\n",
    "        if count == 0:\n",
    "            prime.append(k)\n",
    "print(prime)"
   ]
  },
  {
   "cell_type": "code",
   "execution_count": 7,
   "metadata": {},
   "outputs": [
    {
     "name": "stdout",
     "output_type": "stream",
     "text": [
      "15\n"
     ]
    }
   ],
   "source": [
    " \n",
    "i = 5\n",
    "j = 3\n",
    "if i > j:\n",
    "    x = i\n",
    "else:\n",
    "    x = j\n",
    "while True:\n",
    "    if (x % i == 0 and x % j == 0):\n",
    "        break\n",
    "    else:\n",
    "        x += 1\n",
    "print(x)"
   ]
  },
  {
   "cell_type": "code",
   "execution_count": 15,
   "metadata": {
    "scrolled": true
   },
   "outputs": [
    {
     "ename": "KeyboardInterrupt",
     "evalue": "",
     "output_type": "error",
     "traceback": [
      "\u001b[1;31m---------------------------------------------------------------------------\u001b[0m",
      "\u001b[1;31mKeyboardInterrupt\u001b[0m                         Traceback (most recent call last)",
      "\u001b[1;32m<ipython-input-15-d4baa05fb05f>\u001b[0m in \u001b[0;36m<module>\u001b[1;34m\u001b[0m\n\u001b[0;32m      1\u001b[0m \u001b[0mmyResult\u001b[0m \u001b[1;33m=\u001b[0m \u001b[0mset\u001b[0m\u001b[1;33m(\u001b[0m\u001b[1;33m)\u001b[0m\u001b[1;33m\u001b[0m\u001b[1;33m\u001b[0m\u001b[0m\n\u001b[0;32m      2\u001b[0m \u001b[1;32mwhile\u001b[0m \u001b[0mlen\u001b[0m\u001b[1;33m(\u001b[0m\u001b[0mmyResult\u001b[0m\u001b[1;33m)\u001b[0m\u001b[1;33m<\u001b[0m\u001b[1;36m1\u001b[0m\u001b[1;33m:\u001b[0m\u001b[1;33m\u001b[0m\u001b[1;33m\u001b[0m\u001b[0m\n\u001b[1;32m----> 3\u001b[1;33m     \u001b[1;32mif\u001b[0m \u001b[1;33m(\u001b[0m\u001b[0mx\u001b[0m\u001b[1;33m%\u001b[0m\u001b[1;36m2\u001b[0m\u001b[1;33m==\u001b[0m\u001b[1;36m0\u001b[0m \u001b[1;32mand\u001b[0m \u001b[0mx\u001b[0m\u001b[1;33m%\u001b[0m\u001b[1;36m3\u001b[0m\u001b[1;33m==\u001b[0m\u001b[1;36m0\u001b[0m \u001b[1;32mand\u001b[0m \u001b[0mx\u001b[0m\u001b[1;33m%\u001b[0m\u001b[1;36m4\u001b[0m\u001b[1;33m==\u001b[0m\u001b[1;36m0\u001b[0m \u001b[1;32mand\u001b[0m \u001b[0mx\u001b[0m\u001b[1;33m%\u001b[0m\u001b[1;36m5\u001b[0m\u001b[1;33m==\u001b[0m\u001b[1;36m0\u001b[0m \u001b[1;32mand\u001b[0m \u001b[0mx\u001b[0m\u001b[1;33m%\u001b[0m\u001b[1;36m6\u001b[0m\u001b[1;33m==\u001b[0m\u001b[1;36m0\u001b[0m \u001b[1;32mand\u001b[0m \u001b[0mx\u001b[0m\u001b[1;33m%\u001b[0m\u001b[1;36m7\u001b[0m\u001b[1;33m==\u001b[0m\u001b[1;36m0\u001b[0m \u001b[1;32mand\u001b[0m \u001b[0mx\u001b[0m\u001b[1;33m%\u001b[0m\u001b[1;36m8\u001b[0m\u001b[1;33m==\u001b[0m\u001b[1;36m0\u001b[0m \u001b[1;32mand\u001b[0m \u001b[0mx\u001b[0m\u001b[1;33m%\u001b[0m\u001b[1;36m9\u001b[0m\u001b[1;33m==\u001b[0m\u001b[1;36m0\u001b[0m \u001b[1;32mand\u001b[0m \u001b[0mx\u001b[0m\u001b[1;33m%\u001b[0m\u001b[1;36m10\u001b[0m\u001b[1;33m==\u001b[0m\u001b[1;36m0\u001b[0m \u001b[1;32mand\u001b[0m \u001b[0mx\u001b[0m\u001b[1;33m%\u001b[0m\u001b[1;36m11\u001b[0m\u001b[1;33m==\u001b[0m\u001b[1;36m0\u001b[0m \u001b[1;32mand\u001b[0m \u001b[0mx\u001b[0m\u001b[1;33m%\u001b[0m\u001b[1;36m12\u001b[0m\u001b[1;33m==\u001b[0m\u001b[1;36m0\u001b[0m \u001b[1;32mand\u001b[0m \u001b[0mx\u001b[0m\u001b[1;33m%\u001b[0m\u001b[1;36m13\u001b[0m\u001b[1;33m==\u001b[0m\u001b[1;36m0\u001b[0m \u001b[1;32mand\u001b[0m \u001b[0mx\u001b[0m\u001b[1;33m%\u001b[0m\u001b[1;36m14\u001b[0m\u001b[1;33m==\u001b[0m\u001b[1;36m0\u001b[0m \u001b[1;32mand\u001b[0m \u001b[0mx\u001b[0m\u001b[1;33m%\u001b[0m\u001b[1;36m15\u001b[0m\u001b[1;33m==\u001b[0m\u001b[1;36m0\u001b[0m \u001b[1;32mand\u001b[0m \u001b[0mx\u001b[0m\u001b[1;33m%\u001b[0m\u001b[1;36m16\u001b[0m\u001b[1;33m==\u001b[0m\u001b[1;36m0\u001b[0m \u001b[1;32mand\u001b[0m \u001b[0mx\u001b[0m\u001b[1;33m%\u001b[0m\u001b[1;36m17\u001b[0m\u001b[1;33m==\u001b[0m\u001b[1;36m0\u001b[0m \u001b[1;32mand\u001b[0m \u001b[0mx\u001b[0m\u001b[1;33m%\u001b[0m\u001b[1;36m18\u001b[0m\u001b[1;33m==\u001b[0m\u001b[1;36m0\u001b[0m \u001b[1;32mand\u001b[0m \u001b[0mx\u001b[0m\u001b[1;33m%\u001b[0m\u001b[1;36m19\u001b[0m\u001b[1;33m==\u001b[0m\u001b[1;36m0\u001b[0m \u001b[1;32mand\u001b[0m \u001b[0mx\u001b[0m\u001b[1;33m%\u001b[0m\u001b[1;36m20\u001b[0m\u001b[1;33m==\u001b[0m\u001b[1;36m0\u001b[0m\u001b[1;33m)\u001b[0m\u001b[1;33m:\u001b[0m\u001b[1;33m\u001b[0m\u001b[1;33m\u001b[0m\u001b[0m\n\u001b[0m\u001b[0;32m      4\u001b[0m         \u001b[0mmyResult\u001b[0m\u001b[1;33m.\u001b[0m\u001b[0mappend\u001b[0m\u001b[1;33m(\u001b[0m\u001b[0mx\u001b[0m\u001b[1;33m)\u001b[0m\u001b[1;33m\u001b[0m\u001b[1;33m\u001b[0m\u001b[0m\n\u001b[0;32m      5\u001b[0m     \u001b[1;32melse\u001b[0m\u001b[1;33m:\u001b[0m\u001b[1;33m\u001b[0m\u001b[1;33m\u001b[0m\u001b[0m\n",
      "\u001b[1;31mKeyboardInterrupt\u001b[0m: "
     ]
    }
   ],
   "source": [
    "myResult = set()\n",
    "while len(myResult)<1:\n",
    "    if (x%2==0 and x%3==0 and x%4==0 and x%5==0 and x%6==0 and x%7==0 and x%8==0 and x%9==0 and x%10==0 and x%11==0 and x%12==0 and x%13==0 and x%14==0 and x%15==0 and x%16==0 and x%17==0 and x%18==0 and x%19==0 and x%20==0):\n",
    "        myResult.append(x)\n",
    "    else:\n",
    "        x += 1\n",
    "print(myResult)"
   ]
  },
  {
   "cell_type": "code",
   "execution_count": 17,
   "metadata": {},
   "outputs": [
    {
     "name": "stdout",
     "output_type": "stream",
     "text": [
      "[230854680]\n"
     ]
    }
   ],
   "source": [
    "myResult = []\n",
    "while len(myResult)<1:\n",
    "    if (x%2==0 and x%3==0 and x%4==0 and x%5==0 and x%6==0 and x%7==0 and x%8==0 and x%9==0 and x%10==0):# and x%11==0 and x%12==0 and x%13==0 and x%14==0 and x%15==0 and x%16==0 and x%17==0 and x%18==0 and x%19==0 and x%20==0):\n",
    "        myResult.append(x)\n",
    "    else:\n",
    "        x += 1\n",
    "print(myResult)"
   ]
  },
  {
   "cell_type": "code",
   "execution_count": 25,
   "metadata": {},
   "outputs": [
    {
     "name": "stdout",
     "output_type": "stream",
     "text": [
      "[232792560]\n"
     ]
    }
   ],
   "source": [
    "def myFunc(x,y):\n",
    "    myResult = []\n",
    "    x= 1\n",
    "    while len(myResult)<1:\n",
    "        for i in range(x,y+1):\n",
    "            if x % i == 0:\n",
    "                True\n",
    "            else:\n",
    "                x += 1\n",
    "    return(myResult[0])"
   ]
  },
  {
   "cell_type": "code",
   "execution_count": 27,
   "metadata": {},
   "outputs": [
    {
     "name": "stdout",
     "output_type": "stream",
     "text": [
      "[]\n"
     ]
    }
   ],
   "source": [
    "my = []\n",
    "zz = 1\n",
    "for i in range(1,10):\n",
    "    if zz % i == 0:\n",
    "        True\n",
    "    else:\n",
    "        zz+=1\n",
    "print(my)"
   ]
  }
 ],
 "metadata": {
  "kernelspec": {
   "display_name": "[CPU_ENV]",
   "language": "python",
   "name": "cpu_env"
  },
  "language_info": {
   "codemirror_mode": {
    "name": "ipython",
    "version": 3
   },
   "file_extension": ".py",
   "mimetype": "text/x-python",
   "name": "python",
   "nbconvert_exporter": "python",
   "pygments_lexer": "ipython3",
   "version": "3.6.9"
  }
 },
 "nbformat": 4,
 "nbformat_minor": 2
}
